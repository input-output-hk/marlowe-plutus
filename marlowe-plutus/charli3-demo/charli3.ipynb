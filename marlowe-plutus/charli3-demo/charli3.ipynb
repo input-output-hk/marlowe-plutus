{
 "cells": [
  {
   "cell_type": "markdown",
   "id": "a9652dff-19ef-476c-845f-2e38fa25e182",
   "metadata": {},
   "source": [
    "# Plutus bridge from Charli3 oracle to Marlowe contracts\n",
    "\n",
    "\n",
    "**Executive Summary**\n",
    "\n",
    "We demonstrate the operation of a general-purpose bridge between Marlowe contracts and the Charli3 oracle. This \"oracle bridge\" is a small Plutus validator script that verifies that the price from the Charli3 oracle feed's reference UTXO is correctly input into the price `Choice` for the Marlowe contract. The oracle bridge enforces the following security guarantees:\n",
    "1. The bridge will only read the price data from the oracle feed reference UTXO that contains the specified Charli3 `OracleFeed` token's policy ID.\n",
    "2. The bridge ensures that the `ChoiceId` of the Marlowe contract `IChoice` action matches the specified name of the Charli3 oracle feed (in this example `Charli3 ADAUSD`).\n",
    "3. The bridge checks that the `ChoiceNum` of the Marlowe contract `IChoice` action matches the prices datum in the oracle feed reference UTXO.\n",
    "4. The bridge checks for the presence of the \"thread\" role token in the Marlowe contract instance.\n",
    "5. The bridge holds the `Oracle` role token for the Marlowe contract instance, ensuring that Marlowe will only accept oracle input from that particular bridge instance.\n",
    "6. The contract is uses the Marlowe validator.\n",
    "7. The Cardano ledger and Charli3 semantics ensure that a \"stale\" or dated reference UTXO is not used by the bridge.\n",
    "\n",
    "The diagram below shows the oracle bridge's interaction with the Charli3 reference UTXO and with the Marlowe contract. The Marlowe contract is not aware of the bridge's nature aside from the fact that the bridge holds the `Oracle` role token that authorizes the `IChoice` that inputs the Charli3 ADA/USD price into the Marlowe contract.\n",
    "\n",
    "![Oracle bridge's interaction with Charli3 and Marlowe](bridge.png)\n",
    "\n",
    "The demonstration uses the simplest possible Marlowe contract that interacts with an oracle. The contract simply waits for price input from the oracle bridge and then waits for a notification to close the contract. (Note that the price input and notification cannot take place in the same transaction because of Marlowe's guard against double-satisfaction attacks.) A more realistic Marlowe contract would use the price input in its payment logic.\n",
    "\n",
    "![Simple Marlowe oracle](contract.png)\n",
    "\n",
    "[A video demonstration demonstrating the oracle bridge on Cardano mainnet](https://youtu.be/_9DgXb323CE) is available.\n",
    "\n",
    "References:\n",
    "- [Source code for oracle bridge](https://github.com/input-output-hk/marlowe-plutus/tree/PLT-7535/marlowe-plutus/charli3)\n",
    "- [Marlowe on Cardano](https://github.com/input-output-hk/marlowe-cardano)\n",
    "- [Charli3 documentation](https://docs.charli3.io/)\n",
    "- [Charli3 oracle-datum-lib](https://github.com/Charli3-Official/oracle-datum-lib)"
   ]
  },
  {
   "cell_type": "markdown",
   "id": "ae0a6893-2666-4a16-9714-480b47e6412e",
   "metadata": {},
   "source": [
    "## Utility functions"
   ]
  },
  {
   "cell_type": "markdown",
   "id": "d35b839d-3856-4605-addc-6c76816ddbcd",
   "metadata": {},
   "source": [
    "### Find the tip of the Cardano node"
   ]
  },
  {
   "cell_type": "code",
   "execution_count": 1,
   "id": "def41d8f-ef56-4fdb-97ac-c214aa149b21",
   "metadata": {
    "tags": []
   },
   "outputs": [],
   "source": [
    "function node_tip {\n",
    "cardano-cli query tip \\\n",
    "  \"${MAGIC[@]}\" \\\n",
    "| jq -r .slot\n",
    "}"
   ]
  },
  {
   "cell_type": "markdown",
   "id": "ad0995fd-421f-4382-b1d9-6d430b37ebd7",
   "metadata": {},
   "source": [
    "### Select a UTXO for use in a transaction"
   ]
  },
  {
   "cell_type": "code",
   "execution_count": 2,
   "id": "bebdaef8-e8d7-4dfb-bc86-e3dbd3223cf8",
   "metadata": {
    "tags": []
   },
   "outputs": [],
   "source": [
    "function select_utxo {\n",
    "marlowe-cli util select \\\n",
    "  \"${MAGIC[@]}\" \\\n",
    "  --lovelace-only \"$1\" \\\n",
    "  \"$PAYMENT_ADDR\" \\\n",
    "| sed -n -e 's/^TxIn \"\\(.*\\)\" (TxIx \\(.*\\))$/\\1#\\2/;1p'\n",
    "}"
   ]
  },
  {
   "cell_type": "markdown",
   "id": "e5e59d82-dbb3-42b4-90fc-348f4f9b095e",
   "metadata": {},
   "source": [
    "### Select a UTXO for the thread role token"
   ]
  },
  {
   "cell_type": "code",
   "execution_count": 3,
   "id": "ca3545d5-3aa1-44b1-9a04-0a6d3b6ceaa9",
   "metadata": {
    "tags": []
   },
   "outputs": [],
   "source": [
    "function select_thread_utxo {\n",
    "marlowe-cli util select \\\n",
    "  \"${MAGIC[@]}\" \\\n",
    "  --asset-only \"$ROLES_CURRENCY.$THREAD_ROLE\" \\\n",
    "  \"$PAYMENT_ADDR\" \\\n",
    "| sed -n -e 's/^TxIn \"\\(.*\\)\" (TxIx \\(.*\\))$/\\1#\\2/;1p'\n",
    "}"
   ]
  },
  {
   "cell_type": "markdown",
   "id": "67b47611-f91b-4408-91e4-602dd78d9a40",
   "metadata": {},
   "source": [
    "### Select a UTXO for the oracle bridge role token"
   ]
  },
  {
   "cell_type": "code",
   "execution_count": 4,
   "id": "5d71b86e-d0cd-4f0e-b56a-3f2642694bb2",
   "metadata": {
    "tags": []
   },
   "outputs": [],
   "source": [
    "function select_bridge_utxo {\n",
    "marlowe-cli util select \\\n",
    "  \"${MAGIC[@]}\" \\\n",
    "  --asset-only \"$ROLES_CURRENCY.$BRIDGE_ROLE\" \\\n",
    "  \"$PAYMENT_ADDR\" \\\n",
    "| sed -n -e 's/^TxIn \"\\(.*\\)\" (TxIx \\(.*\\))$/\\1#\\2/;1p'\n",
    "}"
   ]
  },
  {
   "cell_type": "markdown",
   "id": "153908d3-7368-4e31-9bc4-3184853d7d47",
   "metadata": {},
   "source": [
    "### Sign and submit a transaction"
   ]
  },
  {
   "cell_type": "code",
   "execution_count": 5,
   "id": "913da5a3-dea8-4279-b39f-8494ea4b7641",
   "metadata": {
    "tags": []
   },
   "outputs": [],
   "source": [
    "function tx_submit {\n",
    "cardano-cli transaction sign \\\n",
    "  \"${MAGIC[@]}\" \\\n",
    "  --signing-key-file \"$PAYMENT_SKEY\" \\\n",
    "  --tx-body-file \"$1.unsigned\" \\\n",
    "  --out-file \"$1.signed\"\n",
    "cardano-cli transaction submit \\\n",
    "  \"${MAGIC[@]}\" \\\n",
    "  --tx-file \"$1.signed\" \\\n",
    "| grep -v 'Transaction successfully submitted.'\n",
    "TMP_TXID=$(cardano-cli transaction txid --tx-file \"$1.signed\")\n",
    "while [[ $(cardano-cli query utxo \"${MAGIC[@]}\" --tx-in \"$TMP_TXID#0\" --out-file /dev/stdout | jq length) == 0 ]]; do sleep 5s; done\n",
    "echo \"$TMP_TXID\"\n",
    "}"
   ]
  },
  {
   "cell_type": "markdown",
   "id": "b0732715-2e2b-463d-a973-a8464fff3963",
   "metadata": {},
   "source": [
    "## Preliminaries"
   ]
  },
  {
   "cell_type": "markdown",
   "id": "62438ad3-9480-4920-bfac-b524dc83ccb1",
   "metadata": {},
   "source": [
    "### Network\n",
    "\n",
    "Select the network."
   ]
  },
  {
   "cell_type": "code",
   "execution_count": 6,
   "id": "316b5eb1-f441-4f15-b77a-4c829d19a9ec",
   "metadata": {
    "tags": []
   },
   "outputs": [],
   "source": [
    "NETWORK=mainnet"
   ]
  },
  {
   "cell_type": "markdown",
   "id": "30d613eb-15bd-4e01-8fb1-930ee5f797ab",
   "metadata": {},
   "source": [
    "Connect to the node."
   ]
  },
  {
   "cell_type": "code",
   "execution_count": 7,
   "id": "7afd13fc-16da-4f8e-87f7-cb3bf822a32e",
   "metadata": {
    "tags": []
   },
   "outputs": [],
   "source": [
    "if [[ \"$NETWORK\" == \"mainnet\" ]]\n",
    "then\n",
    "\n",
    "export CARDANO_NODE_SOCKET_PATH=mainnet/node.socket\n",
    "unset CARDANO_TESTNET_MAGIC\n",
    "MAGIC=(--mainnet)\n",
    "CARDANOSCAN_URL=https://cardanoscan.io\n",
    "\n",
    "else\n",
    "\n",
    "export CARDANO_NODE_SOCKET_PATH=preprod/node.socket\n",
    "export CARDANO_TESTNET_MAGIC=1\n",
    "MAGIC=(--testnet-magic 1)\n",
    "CARDANOSCAN_URL=https://preprod.cardanoscan.io\n",
    "\n",
    "fi"
   ]
  },
  {
   "cell_type": "markdown",
   "id": "79604c17-55d6-4855-b1a2-ceb1db08c061",
   "metadata": {},
   "source": [
    "Retrieve the protocol parameters."
   ]
  },
  {
   "cell_type": "code",
   "execution_count": 8,
   "id": "df25d181-66f7-4862-a3ce-a640c48054e0",
   "metadata": {
    "tags": []
   },
   "outputs": [],
   "source": [
    "cardano-cli query protocol-parameters \\\n",
    "  \"${MAGIC[@]}\" \\\n",
    "  --out-file network.protocol"
   ]
  },
  {
   "cell_type": "markdown",
   "id": "33718c22-a869-4351-9612-16a5eaf3c7e6",
   "metadata": {},
   "source": [
    "### Oracle bridge"
   ]
  },
  {
   "cell_type": "markdown",
   "id": "c7bb2984-0f1d-4b24-8d0b-b6ae6a202293",
   "metadata": {},
   "source": [
    "Use the Charli3 oracle bridge for Marlowe."
   ]
  },
  {
   "cell_type": "code",
   "execution_count": 9,
   "id": "ca3b2c94-27f9-460b-b3f2-db955ddadd2c",
   "metadata": {
    "tags": []
   },
   "outputs": [],
   "source": [
    "BRIDGE_EXE=marlowe-charli3"
   ]
  },
  {
   "cell_type": "markdown",
   "id": "7af5013a-032d-4083-9088-54d46d6ac66d",
   "metadata": {},
   "source": [
    "Serialise the Plutus script."
   ]
  },
  {
   "cell_type": "code",
   "execution_count": 10,
   "id": "7daa8c97-288d-4c56-a0f7-2c92afdc48c1",
   "metadata": {
    "tags": []
   },
   "outputs": [
    {
     "name": "stdout",
     "output_type": "stream",
     "text": [
      "Mainnet: True\n",
      "Validator hash: 5cf63b098791dad54c986b0b24f9c645de3226a7ccbd71fd64f22518\n",
      "Validator file: charli3.plutus\n"
     ]
    }
   ],
   "source": [
    "$BRIDGE_EXE"
   ]
  },
  {
   "cell_type": "markdown",
   "id": "3cdb2a1b-b389-4da5-b08f-e4b016a9b3fb",
   "metadata": {},
   "source": [
    "Compute the address of the oracle bridge."
   ]
  },
  {
   "cell_type": "code",
   "execution_count": 11,
   "id": "408ef218-13b6-404e-95ba-ac5529596eab",
   "metadata": {
    "tags": []
   },
   "outputs": [
    {
     "name": "stdout",
     "output_type": "stream",
     "text": [
      "BRIDGE_ADDR = addr1w9w0vwcfs7ga442vnp4skf8ecezauv3x5lxt6u0avnez2xqfa52pa\n"
     ]
    }
   ],
   "source": [
    "BRIDGE_ADDR=$(\n",
    "cardano-cli address build \\\n",
    "  \"${MAGIC[@]}\" \\\n",
    "  --payment-script-file charli3.plutus \\\n",
    ")\n",
    "echo \"BRIDGE_ADDR = $BRIDGE_ADDR\""
   ]
  },
  {
   "cell_type": "markdown",
   "id": "3e4de9f5-cb4d-466b-af82-5b4e90c3356c",
   "metadata": {},
   "source": [
    "### Payment credential"
   ]
  },
  {
   "cell_type": "markdown",
   "id": "15e609b4-3eed-4ee2-a772-a2559decd355",
   "metadata": {},
   "source": [
    "Set up a key for funding transactions."
   ]
  },
  {
   "cell_type": "code",
   "execution_count": 12,
   "id": "417ae469-e52c-4c6d-ac68-de45dc89ef70",
   "metadata": {
    "tags": []
   },
   "outputs": [
    {
     "name": "stdout",
     "output_type": "stream",
     "text": [
      "PAYMENT_ADDR = addr1q9drnfv8x6uyz7enyfckc4ktwt45p9eqv0yklqlnzvgv7synjlzdfawd9kvva673fht7737e3r5j322v7090uqhpn0wqqr3sw0\n"
     ]
    }
   ],
   "source": [
    "if [[ \"$NETWORK\" == \"mainnet\" ]]\n",
    "then\n",
    "\n",
    "PAYMENT_ADDR=addr1q9drnfv8x6uyz7enyfckc4ktwt45p9eqv0yklqlnzvgv7synjlzdfawd9kvva673fht7737e3r5j322v7090uqhpn0wqqr3sw0\n",
    "PAYMENT_SKEY=service-4.skey\n",
    "\n",
    "else\n",
    "\n",
    "PAYMENT_ADDR=$(cat payment.testnet.address)\n",
    "PAYMENT_SKEY=payment.skey\n",
    "\n",
    "fi\n",
    "\n",
    "echo \"PAYMENT_ADDR = $PAYMENT_ADDR\""
   ]
  },
  {
   "cell_type": "markdown",
   "id": "c17b476f-c312-4cba-b39a-f1c461fdf3e3",
   "metadata": {},
   "source": [
    "### Marlowe validator script"
   ]
  },
  {
   "cell_type": "markdown",
   "id": "cf24e382-e81c-4ba7-b804-6af6648d473e",
   "metadata": {},
   "source": [
    "Check the hash of the Marlowe semantics validator script."
   ]
  },
  {
   "cell_type": "code",
   "execution_count": 13,
   "id": "2abc4c3d-b7e9-4c45-9f8b-4dfa7ee50560",
   "metadata": {
    "tags": []
   },
   "outputs": [
    {
     "name": "stdout",
     "output_type": "stream",
     "text": [
      "addr1wyhdyccahvnheppng3fut3phhp3jt5m37zp4529ezz535ms353w0f\n",
      "\n",
      "Validator hash: \"2ed2631dbb277c84334453c5c437b86325d371f0835a28b910a91a6e\"\n"
     ]
    }
   ],
   "source": [
    "marlowe-cli contract validator \\\n",
    "  \"${MAGIC[@]}\" \\\n",
    "  --out-file /dev/null \\\n",
    "  --print-hash"
   ]
  },
  {
   "cell_type": "markdown",
   "id": "c162bfca-871c-4774-8903-5644fbbe011c",
   "metadata": {},
   "source": [
    "Compute the address of the Marlowe interpreter."
   ]
  },
  {
   "cell_type": "code",
   "execution_count": 14,
   "id": "8d425bcc-b9c1-4640-a2ce-03a59424e1d7",
   "metadata": {
    "tags": []
   },
   "outputs": [
    {
     "name": "stdout",
     "output_type": "stream",
     "text": [
      "MARLOWE_ADDR = addr1wyhdyccahvnheppng3fut3phhp3jt5m37zp4529ezz535ms353w0f\n"
     ]
    }
   ],
   "source": [
    "MARLOWE_ADDR=$(marlowe-cli contract address \"${MAGIC[@]}\")\n",
    "echo \"MARLOWE_ADDR = $MARLOWE_ADDR\""
   ]
  },
  {
   "cell_type": "markdown",
   "id": "02c16d03-4f11-462d-8c9b-33ee5d2f2372",
   "metadata": {},
   "source": [
    "Find the reference UTXO for the Marlowe interpreter."
   ]
  },
  {
   "cell_type": "code",
   "execution_count": 15,
   "id": "07d18651-8ae3-434e-ad92-67fac257122d",
   "metadata": {
    "tags": []
   },
   "outputs": [
    {
     "name": "stdout",
     "output_type": "stream",
     "text": [
      "UTXO_MARLOWE_SCRIPT = 672399f7d551d6e06fda70769f830e4e3783495c6250567c6ae97ecc788ad5a4#1\n"
     ]
    }
   ],
   "source": [
    "if [[ \"$NETWORK\" == \"mainnet\" ]]\n",
    "then\n",
    "\n",
    "UTXO_MARLOWE_SCRIPT=$(\n",
    "marlowe-cli transaction find-published \\\n",
    "   \"${MAGIC[@]}\" \\\n",
    "   --at-address addr1z9l4w7djneh0kss4drg2php6ynflsvmal7x3w5nrc95uvhz7e4q926apsvcd6kn33cpx95k8jsmrj7v0k62rczvz8urqrl2z0l \\\n",
    "  2> /dev/null \\\n",
    "| jq -r .marlowe.txIn\n",
    ")\n",
    "\n",
    "else\n",
    "\n",
    "UTXO_MARLOWE_SCRIPT=$(\n",
    "marlowe-cli transaction find-published \\\n",
    "   \"${MAGIC[@]}\" \\\n",
    "  2> /dev/null \\\n",
    "| jq -r .marlowe.txIn\n",
    ")\n",
    "\n",
    "fi\n",
    "\n",
    "echo \"UTXO_MARLOWE_SCRIPT = $UTXO_MARLOWE_SCRIPT\""
   ]
  },
  {
   "cell_type": "markdown",
   "id": "eac0afc2-f39b-41ad-9539-dc8aa8955ebc",
   "metadata": {},
   "source": [
    "### Datums and redeemers"
   ]
  },
  {
   "cell_type": "markdown",
   "id": "3bcf6962-5418-4998-925a-a60b37f2330b",
   "metadata": {},
   "source": [
    "Create redeemers for controlling the oracle bridge."
   ]
  },
  {
   "cell_type": "code",
   "execution_count": 16,
   "id": "901460c6-7e4b-4057-b734-4b8a4328f291",
   "metadata": {
    "tags": []
   },
   "outputs": [],
   "source": [
    "echo '{\"constructor\": 0, \"fields\": []}' > terminate.redeemer\n",
    "echo '{\"constructor\": 1, \"fields\": []}' > continue.redeemer"
   ]
  },
  {
   "cell_type": "markdown",
   "id": "865cbad3-9de5-4d7e-a3f3-f4e5d90c4deb",
   "metadata": {},
   "source": [
    "Create the datum for the oracle bridge."
   ]
  },
  {
   "cell_type": "code",
   "execution_count": 17,
   "id": "a138e99b-31fc-47a6-961e-5abea215af63",
   "metadata": {
    "tags": []
   },
   "outputs": [
    {
     "name": "stdout",
     "output_type": "stream",
     "text": [
      "THREAD_HEX = 546872656164\n"
     ]
    }
   ],
   "source": [
    "THREAD_ROLE=Thread\n",
    "echo '{\"bytes\": \"'$(echo -n $THREAD_ROLE | basenc --base16)'\"}' > thread.datum\n",
    "THREAD_HEX=$(jq -r .bytes thread.datum | tr '[:upper:]' '[:lower:]')\n",
    "echo \"THREAD_HEX = $THREAD_HEX\""
   ]
  },
  {
   "cell_type": "markdown",
   "id": "1b9e65e9-64e7-457a-b12b-651441dec14b",
   "metadata": {},
   "source": [
    "### Constants"
   ]
  },
  {
   "cell_type": "markdown",
   "id": "96c5d242-d39c-4b66-a696-1a5fd985518f",
   "metadata": {
    "tags": []
   },
   "source": [
    "One ada is one million lovelace."
   ]
  },
  {
   "cell_type": "code",
   "execution_count": 18,
   "id": "dff95c25-6c2d-491e-983d-17ee0e72d1fc",
   "metadata": {
    "tags": []
   },
   "outputs": [],
   "source": [
    "ADA=1000000"
   ]
  },
  {
   "cell_type": "markdown",
   "id": "1324c7c6-c134-46ec-b7fe-06bd94eb967e",
   "metadata": {},
   "source": [
    "### Minting"
   ]
  },
  {
   "cell_type": "markdown",
   "id": "74814258-f734-4b53-a351-0a85c18fe908",
   "metadata": {},
   "source": [
    "Compute the policy ID for the Marlowe roles currency."
   ]
  },
  {
   "cell_type": "code",
   "execution_count": 19,
   "id": "f1d4ef2a-fb37-457b-8c20-32cf00b32368",
   "metadata": {
    "tags": []
   },
   "outputs": [
    {
     "name": "stdout",
     "output_type": "stream",
     "text": [
      "ROLES_CURRENCY = bd0dddf6d44a37ba142096f71d281159544378c4f17887a39797c002\n"
     ]
    }
   ],
   "source": [
    "ROLES_CURRENCY=$(\n",
    "marlowe-cli util mint \\\n",
    "   \"${MAGIC[@]}\" \\\n",
    "  --issuer \"$PAYMENT_ADDR:$PAYMENT_SKEY\" \\\n",
    "  --out-file /dev/null \\\n",
    "  \"$THREAD_ROLE:$PAYMENT_ADDR\" \\\n",
    "  2> /dev/null\n",
    ")\n",
    "echo \"ROLES_CURRENCY = $ROLES_CURRENCY\""
   ]
  },
  {
   "cell_type": "markdown",
   "id": "345e104f-47b0-4564-a7e5-a8064b799df4",
   "metadata": {},
   "source": [
    "#### Mint the thread token, if necessary"
   ]
  },
  {
   "cell_type": "markdown",
   "id": "294856e2-17cf-4f74-978f-9f9fcf119ad3",
   "metadata": {},
   "source": [
    "Mint the thread token to uniquely identify the Marlowe contract."
   ]
  },
  {
   "cell_type": "code",
   "execution_count": 20,
   "id": "6355ea1a-c501-4dc1-af44-3032e1e249cc",
   "metadata": {
    "tags": []
   },
   "outputs": [
    {
     "name": "stdout",
     "output_type": "stream",
     "text": [
      "Minted with policy IDbd0dddf6d44a37ba142096f71d281159544378c4f17887a39797c002\n"
     ]
    }
   ],
   "source": [
    "if [[ $(select_thread_utxo) == \"\" ]]\n",
    "then\n",
    "echo -n \"Minted with policy ID\"\n",
    "marlowe-cli util mint \\\n",
    "   \"${MAGIC[@]}\" \\\n",
    "  --issuer \"$PAYMENT_ADDR:$PAYMENT_SKEY\" \\\n",
    "  --out-file /dev/null \\\n",
    "  --submit 600s \\\n",
    "  \"$THREAD_ROLE:$PAYMENT_ADDR\" \\\n",
    "  2> /dev/null\n",
    "else\n",
    "  echo \"Already minted.\"\n",
    "fi"
   ]
  },
  {
   "cell_type": "markdown",
   "id": "ff318c47-d64f-465d-8859-6d932166fd3c",
   "metadata": {},
   "source": [
    "#### Mint the oracle bridge role token, if necessary"
   ]
  },
  {
   "cell_type": "markdown",
   "id": "cd12f4a3-57a0-4949-b07c-3048335b85f2",
   "metadata": {},
   "source": [
    "Mint the role token for the oracle bridge."
   ]
  },
  {
   "cell_type": "code",
   "execution_count": 21,
   "id": "b31a84ee-e2db-46a7-b644-ea66cc798eb3",
   "metadata": {
    "tags": []
   },
   "outputs": [
    {
     "name": "stdout",
     "output_type": "stream",
     "text": [
      "BRIDGE_HEX = 4f7261636c65\n"
     ]
    }
   ],
   "source": [
    "BRIDGE_ROLE=Oracle\n",
    "BRIDGE_HEX=$(echo -n \"$BRIDGE_ROLE\" | basenc --base16 | tr '[:upper:]' '[:lower:]')\n",
    "echo \"BRIDGE_HEX = $BRIDGE_HEX\""
   ]
  },
  {
   "cell_type": "code",
   "execution_count": 22,
   "id": "afdf2f7d-bd1a-446c-884b-440ed3edf5c3",
   "metadata": {
    "tags": []
   },
   "outputs": [
    {
     "name": "stdout",
     "output_type": "stream",
     "text": [
      "Minted with policy IDbd0dddf6d44a37ba142096f71d281159544378c4f17887a39797c002\n"
     ]
    }
   ],
   "source": [
    "if [[ $(select_bridge_utxo) == \"\" ]]\n",
    "then\n",
    "echo -n \"Minted with policy ID\"\n",
    "marlowe-cli util mint \\\n",
    "   \"${MAGIC[@]}\" \\\n",
    "  --issuer \"$PAYMENT_ADDR:$PAYMENT_SKEY\" \\\n",
    "  --out-file /dev/null \\\n",
    "  --submit 600s \\\n",
    "  \"$BRIDGE_ROLE:$PAYMENT_ADDR\" \\\n",
    "  2> /dev/null\n",
    "else\n",
    "  echo \"Already minted.\"\n",
    "fi"
   ]
  },
  {
   "cell_type": "markdown",
   "id": "e9c4b830-302c-4fb8-a144-67eccd1b751e",
   "metadata": {},
   "source": [
    "### Publish the oracle bridge"
   ]
  },
  {
   "cell_type": "markdown",
   "id": "2975462a-f70e-4f2b-8d79-3fe7bc5b443d",
   "metadata": {},
   "source": [
    "Publish the reference script for the oracle bridge."
   ]
  },
  {
   "cell_type": "code",
   "execution_count": 23,
   "id": "967af021-7c39-44f2-84ce-6bf52e7af2eb",
   "metadata": {
    "tags": []
   },
   "outputs": [
    {
     "name": "stdout",
     "output_type": "stream",
     "text": [
      "PUBLISH_ADDR = addr1q9mtvww5dl3gy06xawnk6g77vn0ealu7vrex3t7dd50gqn5njlzdfawd9kvva673fht7737e3r5j322v7090uqhpn0wqjv7p02\n"
     ]
    }
   ],
   "source": [
    "if [[ \"$NETWORK\" == \"mainnet\" ]]\n",
    "then\n",
    "  PUBLISH_ADDR=addr1q9mtvww5dl3gy06xawnk6g77vn0ealu7vrex3t7dd50gqn5njlzdfawd9kvva673fht7737e3r5j322v7090uqhpn0wqjv7p02\n",
    "else\n",
    "  PUBLISH_ADDR=addr_test1qpmtvww5dl3gy06xawnk6g77vn0ealu7vrex3t7dd50gqn5njlzdfawd9kvva673fht7737e3r5j322v7090uqhpn0wq36rpr4\n",
    "fi\n",
    "PUBLISH_SKEY=service-5.skey\n",
    "echo \"PUBLISH_ADDR = $PUBLISH_ADDR\""
   ]
  },
  {
   "cell_type": "code",
   "execution_count": 24,
   "id": "b47b543a-2962-4fce-8de8-4300a8791c99",
   "metadata": {
    "tags": []
   },
   "outputs": [
    {
     "name": "stdout",
     "output_type": "stream",
     "text": [
      "Estimated transaction fee: Lovelace 444637\n"
     ]
    }
   ],
   "source": [
    "cardano-cli transaction build \\\n",
    "  --babbage-era \\\n",
    "  \"${MAGIC[@]}\" \\\n",
    "  --protocol-params-file network.protocol \\\n",
    "  --tx-in \"$(select_utxo $((50 * ADA)))\" \\\n",
    "  --tx-out \"$PUBLISH_ADDR+$((30 * ADA))\" \\\n",
    "    --tx-out-reference-script-file charli3.plutus \\\n",
    "  --change-address \"$PAYMENT_ADDR\" \\\n",
    "  --out-file publish.unsigned"
   ]
  },
  {
   "cell_type": "code",
   "execution_count": 25,
   "id": "c9a49aed-65aa-442e-b57d-813e46a66523",
   "metadata": {
    "tags": []
   },
   "outputs": [
    {
     "name": "stdout",
     "output_type": "stream",
     "text": [
      "UTXO_BRIDGE_SCRIPT = 40d675058587801741eac693bf7007400230712834819d3b583a0ade9183b14d#1\n"
     ]
    }
   ],
   "source": [
    "UTXO_BRIDGE_SCRIPT=\"$(tx_submit publish)#1\"\n",
    "echo \"UTXO_BRIDGE_SCRIPT = $UTXO_BRIDGE_SCRIPT\""
   ]
  },
  {
   "cell_type": "markdown",
   "id": "5348e682-514f-4bf7-8bb6-65434d4d0a86",
   "metadata": {
    "tags": []
   },
   "source": [
    "## Test using the oracle bridge with the Marlowe contract"
   ]
  },
  {
   "cell_type": "markdown",
   "id": "8939e5c3-0068-43bf-892a-44901a1a3116",
   "metadata": {},
   "source": [
    "### Create the oracle bridge"
   ]
  },
  {
   "cell_type": "markdown",
   "id": "b2d56234-1ed1-4f1b-909a-2c86dd5b3586",
   "metadata": {},
   "source": [
    "Find the UTXO with the role token for the oracle bridge."
   ]
  },
  {
   "cell_type": "code",
   "execution_count": 26,
   "id": "4a4d809d-43b2-467b-b9e8-1cf870b7e27c",
   "metadata": {
    "tags": []
   },
   "outputs": [
    {
     "name": "stdout",
     "output_type": "stream",
     "text": [
      "UTXO_BRIDGE = 2d6fd9b6a97cc294faa7f0b166cb2e9a531577902099bd4e8239e94e71f854fa#2\n"
     ]
    }
   ],
   "source": [
    "UTXO_BRIDGE=$(select_bridge_utxo)\n",
    "echo \"UTXO_BRIDGE = $UTXO_BRIDGE\""
   ]
  },
  {
   "cell_type": "markdown",
   "id": "c7624cd0-d8ba-4a41-950e-5762550ee335",
   "metadata": {},
   "source": [
    "Build and submit the transaction to create the oracle bridge."
   ]
  },
  {
   "cell_type": "code",
   "execution_count": 27,
   "id": "859aa53c-a6e2-4327-891f-9272c217d618",
   "metadata": {
    "tags": []
   },
   "outputs": [
    {
     "name": "stdout",
     "output_type": "stream",
     "text": [
      "Estimated transaction fee: Lovelace 178349\n"
     ]
    }
   ],
   "source": [
    "cardano-cli transaction build \\\n",
    "  --babbage-era \\\n",
    "  \"${MAGIC[@]}\" \\\n",
    "  --protocol-params-file network.protocol \\\n",
    "  --tx-in \"$(select_utxo $((10 * ADA)))\" \\\n",
    "  --tx-in \"$UTXO_BRIDGE\" \\\n",
    "  --tx-out \"$BRIDGE_ADDR+$((2 * ADA))+1 $ROLES_CURRENCY.$BRIDGE_HEX\" \\\n",
    "    --tx-out-datum-embed-file thread.datum \\\n",
    "  --change-address \"$PAYMENT_ADDR\" \\\n",
    "  --out-file test-0.unsigned"
   ]
  },
  {
   "cell_type": "code",
   "execution_count": 28,
   "id": "cd223b70-97b9-4e31-8bdf-be06c993007b",
   "metadata": {
    "tags": []
   },
   "outputs": [
    {
     "name": "stdout",
     "output_type": "stream",
     "text": [
      "https://cardanoscan.io/transaction/171669a92a19b5db819313f0c7eb8939a6476fc3eec541ddf8d70392245aae02?tab=utxo\n"
     ]
    }
   ],
   "source": [
    "TX_0=$(tx_submit test-0)\n",
    "echo \"$CARDANOSCAN_URL/transaction/$TX_0?tab=utxo\""
   ]
  },
  {
   "cell_type": "code",
   "execution_count": 29,
   "id": "f8ca2df8-8e0a-4016-89dd-d63958ab0c70",
   "metadata": {
    "tags": []
   },
   "outputs": [
    {
     "name": "stdout",
     "output_type": "stream",
     "text": [
      "UTXO_BRIDGE = 171669a92a19b5db819313f0c7eb8939a6476fc3eec541ddf8d70392245aae02#1\n"
     ]
    }
   ],
   "source": [
    "UTXO_BRIDGE=\"$TX_0#1\"\n",
    "echo \"UTXO_BRIDGE = $UTXO_BRIDGE\""
   ]
  },
  {
   "cell_type": "markdown",
   "id": "70a30d9a-e333-47d3-bc4b-8e754e0084bb",
   "metadata": {},
   "source": [
    "### Design the contract"
   ]
  },
  {
   "cell_type": "markdown",
   "id": "021fec7c-5996-4259-a90b-079a8479d556",
   "metadata": {},
   "source": [
    "Create the Marlowe contract for testing the oracle."
   ]
  },
  {
   "cell_type": "code",
   "execution_count": 30,
   "id": "64d35282-f3f8-4dd3-a85b-801036dac659",
   "metadata": {
    "tags": []
   },
   "outputs": [
    {
     "name": "stdout",
     "output_type": "stream",
     "text": [
      "{\"timeout\":1694905048000,\"timeout_continuation\":\"close\",\"when\":[{\"case\":{\"choose_between\":[{\"from\":1,\"to\":1000000000}],\"for_choice\":{\"choice_name\":\"Charli3 ADAUSD\",\"choice_owner\":{\"role_token\":\"Oracle\"}}},\"then\":{\"timeout\":1694905108000,\"timeout_continuation\":\"close\",\"when\":[{\"case\":{\"notify_if\":true},\"then\":\"close\"}]}}]}\n"
     ]
    }
   ],
   "source": [
    "yaml2json << EOI > test-1.contract\n",
    "when:\n",
    "- case:\n",
    "    choose_between:\n",
    "    - from: 1\n",
    "      to: 1000000000\n",
    "    for_choice:\n",
    "      choice_name: Charli3 ADAUSD  # Currently, this is hard-coded in the oracle bridge's validator script.\n",
    "      choice_owner:\n",
    "        role_token: $BRIDGE_ROLE\n",
    "  then:\n",
    "    when:\n",
    "    - case:\n",
    "        notify_if: true\n",
    "      then: close\n",
    "    timeout: $((1000 * $(date -d \"$(date -u) + 90 minutes\" +%s)))  # Ninety minutes from now.\n",
    "    timeout_continuation: close\n",
    "timeout: $((1000 * $(date -d \"$(date -u) + 89 minutes\" +%s)))  # Ninety minutes from now.\n",
    "timeout_continuation: close\n",
    "EOI\n",
    "cat test-1.contract"
   ]
  },
  {
   "cell_type": "markdown",
   "id": "c72389c8-28b2-479c-803f-306c78f89a1f",
   "metadata": {},
   "source": [
    "#### Set the initial state"
   ]
  },
  {
   "cell_type": "markdown",
   "id": "e52e7277-390a-481f-8990-0291bde7f357",
   "metadata": {},
   "source": [
    "The initial state must contain the thread token and the required minimum ada."
   ]
  },
  {
   "cell_type": "code",
   "execution_count": 31,
   "id": "f5434b42-d4a1-4e43-bd28-26d0c414056b",
   "metadata": {
    "tags": []
   },
   "outputs": [
    {
     "name": "stdout",
     "output_type": "stream",
     "text": [
      "{\"accounts\":[[[{\"address\":\"addr1q9drnfv8x6uyz7enyfckc4ktwt45p9eqv0yklqlnzvgv7synjlzdfawd9kvva673fht7737e3r5j322v7090uqhpn0wqqr3sw0\"},{\"currency_symbol\":\"\",\"token_name\":\"\"}],2000000],[[{\"address\":\"addr1q9drnfv8x6uyz7enyfckc4ktwt45p9eqv0yklqlnzvgv7synjlzdfawd9kvva673fht7737e3r5j322v7090uqhpn0wqqr3sw0\"},{\"currency_symbol\":\"bd0dddf6d44a37ba142096f71d281159544378c4f17887a39797c002\",\"token_name\":\"Thread\"}],1]],\"boundValues\":[],\"choices\":[],\"minTime\":1}\n"
     ]
    }
   ],
   "source": [
    "INITIAL_LOVELACE=$((2 * ADA))\n",
    "yaml2json << EOI > test-1.state\n",
    "accounts:\n",
    "- - - address: $PAYMENT_ADDR\n",
    "    - currency_symbol: ''\n",
    "      token_name: ''\n",
    "  - $INITIAL_LOVELACE\n",
    "- - - address: $PAYMENT_ADDR\n",
    "    - currency_symbol: $ROLES_CURRENCY\n",
    "      token_name: $THREAD_ROLE\n",
    "  - 1\n",
    "choices: []\n",
    "boundValues: []\n",
    "minTime: 1\n",
    "EOI\n",
    "cat test-1.state"
   ]
  },
  {
   "cell_type": "markdown",
   "id": "bf15c771-7289-42ff-a53f-05bfc2d4789a",
   "metadata": {},
   "source": [
    "### Build and submit the Marlowe creation transaction"
   ]
  },
  {
   "cell_type": "markdown",
   "id": "9cecb0cd-3728-43e6-80df-99ea42defab3",
   "metadata": {},
   "source": [
    "Sadly, we cannot yet use Marlowe Runtime for executing Marlowe contracts that utilize auxillary Plutus scripts like the oracle bridge. We'll have to manually construct the datums and redeemers using the high- and low-level commands in `marlowe-cli` and to manually build and submit the transactions with `cardano-cli`."
   ]
  },
  {
   "cell_type": "code",
   "execution_count": 32,
   "id": "699b3965-2e48-4f54-817b-a69a686a3260",
   "metadata": {
    "tags": []
   },
   "outputs": [],
   "source": [
    "marlowe-cli run initialize \\\n",
    "  \"${MAGIC[@]}\" \\\n",
    "  --roles-currency \"$ROLES_CURRENCY\" \\\n",
    "  --contract-file test-1.contract \\\n",
    "  --state-file test-1.state \\\n",
    "  --out-file test-1.marlowe  "
   ]
  },
  {
   "cell_type": "code",
   "execution_count": 33,
   "id": "eb6cc99f-6e46-4fb1-b2ef-ceb1dfd4b233",
   "metadata": {
    "tags": []
   },
   "outputs": [
    {
     "name": "stdout",
     "output_type": "stream",
     "text": [
      "63a4a058514c8485bbf5b5e14b0033d4b5d06584c70e097d52e585ffdb927b76\n"
     ]
    }
   ],
   "source": [
    "marlowe-cli contract datum \\\n",
    "  --roles-currency \"$ROLES_CURRENCY\" \\\n",
    "  --contract-file test-1.contract \\\n",
    "  --state-file test-1.state \\\n",
    "  --out-file test-1.datum"
   ]
  },
  {
   "cell_type": "markdown",
   "id": "27467150-b6f3-4a46-9d05-6a7d37679c4d",
   "metadata": {},
   "source": [
    "Find the UTXO holding the thread token."
   ]
  },
  {
   "cell_type": "code",
   "execution_count": 34,
   "id": "2ffdfce8-47ee-4145-a9c0-21346646c53d",
   "metadata": {
    "tags": []
   },
   "outputs": [
    {
     "name": "stdout",
     "output_type": "stream",
     "text": [
      "UTXO_THREAD = 2d6fd9b6a97cc294faa7f0b166cb2e9a531577902099bd4e8239e94e71f854fa#1\n"
     ]
    }
   ],
   "source": [
    "UTXO_THREAD=$(select_thread_utxo)\n",
    "echo \"UTXO_THREAD = $UTXO_THREAD\""
   ]
  },
  {
   "cell_type": "markdown",
   "id": "172094d7-fea5-4624-8200-e6506bea8d65",
   "metadata": {},
   "source": [
    "Build and submit the transaction to create the Marlowe contract."
   ]
  },
  {
   "cell_type": "code",
   "execution_count": 35,
   "id": "761c1681-e18b-4bef-8754-2561df6bbf53",
   "metadata": {
    "tags": []
   },
   "outputs": [
    {
     "name": "stdout",
     "output_type": "stream",
     "text": [
      "Estimated transaction fee: Lovelace 194849\n"
     ]
    }
   ],
   "source": [
    "cardano-cli transaction build \\\n",
    "  --babbage-era \\\n",
    "  \"${MAGIC[@]}\" \\\n",
    "  --protocol-params-file network.protocol \\\n",
    "  --tx-in \"$(select_utxo $((10 * ADA)))\" \\\n",
    "  --tx-in \"$UTXO_THREAD\" \\\n",
    "  --tx-out \"$MARLOWE_ADDR+$INITIAL_LOVELACE+1 $ROLES_CURRENCY.$THREAD_HEX\" \\\n",
    "    --tx-out-datum-embed-file test-1.datum \\\n",
    "  --change-address \"$PAYMENT_ADDR\" \\\n",
    "  --out-file test-1.unsigned"
   ]
  },
  {
   "cell_type": "code",
   "execution_count": 36,
   "id": "07452dd9-6346-4842-8803-19b52e7c1a26",
   "metadata": {
    "tags": []
   },
   "outputs": [
    {
     "name": "stdout",
     "output_type": "stream",
     "text": [
      "https://cardanoscan.io/transaction/9a04c856b7591d353a0a258ebeec335c544ba5ece1fc180b9124ca0d59b56c71?tab=utxo\n",
      "https://mainnet.marlowescan.com/contractView?tab=info&contractId=9a04c856b7591d353a0a258ebeec335c544ba5ece1fc180b9124ca0d59b56c71%231\n"
     ]
    }
   ],
   "source": [
    "TX_1=$(tx_submit test-1)\n",
    "echo \"$CARDANOSCAN_URL/transaction/$TX_1?tab=utxo\"\n",
    "echo \"https://$NETWORK.marlowescan.com/contractView?tab=info&contractId=$TX_1%231\""
   ]
  },
  {
   "cell_type": "code",
   "execution_count": 37,
   "id": "252e386d-fd33-409c-9152-30ff6d3ee1f4",
   "metadata": {
    "tags": []
   },
   "outputs": [
    {
     "name": "stdout",
     "output_type": "stream",
     "text": [
      "UTXO_MARLOWE = 9a04c856b7591d353a0a258ebeec335c544ba5ece1fc180b9124ca0d59b56c71#1\n"
     ]
    }
   ],
   "source": [
    "UTXO_MARLOWE=\"$TX_1#1\"\n",
    "echo \"UTXO_MARLOWE = $UTXO_MARLOWE\""
   ]
  },
  {
   "cell_type": "markdown",
   "id": "c9abfc81-c608-4396-a324-5e20c81af43d",
   "metadata": {},
   "source": [
    "### Read the Charli3 oracle feed"
   ]
  },
  {
   "cell_type": "markdown",
   "id": "5ce87843-d916-4b12-9d28-3ef3c74b6a62",
   "metadata": {},
   "source": [
    "Now find the reference input for the Charli3 ADAUSD oracle. We query Marlowe Runtime's `chain` schema to determine this."
   ]
  },
  {
   "cell_type": "code",
   "execution_count": 38,
   "id": "0a33dbe2-fb41-476d-99c0-5eba5cb6d34f",
   "metadata": {
    "tags": []
   },
   "outputs": [
    {
     "name": "stdout",
     "output_type": "stream",
     "text": [
      "datumbytes: d8799fd87b9fa3001a0003c4e7011b0000018a9fe38621021b0000018aa01a74a1ffff\n",
      "datumhash: 7ec270f971d03f084c1c198a4f99e53dc8519430dcf4123d65b9e1c48fedd82e\n",
      "txid: ba88b539c186e1723ade42be681f00f1bb3150f9fdf87cc93047d4c7de15983c\n",
      "txix: 1\n"
     ]
    }
   ],
   "source": [
    "export PGPASSWORD=$(cat psql.password)\n",
    "\n",
    "if [[ \"$NETWORK\" == \"mainnet\" ]]\n",
    "then\n",
    "  CHARLI3_POLICY=30d7c4da385a1f5044261d27b6a22d46b645ca3567636df5edeb303d\n",
    "else\n",
    "  CHARLI3_POLICY=e4c846f0f87a7b4524d8e7810ed957c6b7f6e4e2e2e42d75ffe7b373\n",
    "fi\n",
    "\n",
    "psql -t -h 192.168.0.12 \"$NETWORK\" << EOI > charli3-adausd.json\n",
    "select row_to_json(result)\n",
    "  from (\n",
    "    select\n",
    "        encode(txid, 'hex') as txid\n",
    "      , txix\n",
    "      , encode(datumhash, 'hex') as datumhash\n",
    "      , encode(datumbytes, 'hex') as datumbytes\n",
    "      from chain.txout\n",
    "        where (txid, txix) in (\n",
    "          select txoutid, txoutix\n",
    "            from chain.assetout\n",
    "            inner join chain.asset\n",
    "              on assetout.assetid = asset.id\n",
    "            where policyid = '\\x$CHARLI3_POLICY'\n",
    "              and name = '\\x4f7261636c6546656564'\n",
    "          order by slotno desc\n",
    "          limit 1\n",
    "        )\n",
    "  ) result\n",
    ";\n",
    "EOI\n",
    "\n",
    "json2yaml charli3-adausd.json"
   ]
  },
  {
   "cell_type": "markdown",
   "id": "41f5e5c5-6504-4f1b-8270-459f049f1339",
   "metadata": {},
   "source": [
    "Format the UTXO for the Charli3 reference input."
   ]
  },
  {
   "cell_type": "code",
   "execution_count": 39,
   "id": "79c13929-8891-411a-bc10-898cc44aaeef",
   "metadata": {
    "tags": []
   },
   "outputs": [
    {
     "name": "stdout",
     "output_type": "stream",
     "text": [
      "UTXO_CHARLI3 = ba88b539c186e1723ade42be681f00f1bb3150f9fdf87cc93047d4c7de15983c#1\n"
     ]
    }
   ],
   "source": [
    "UTXO_CHARLI3=$(jq -r '.txid + \"#\" + (.txix|tostring)' charli3-adausd.json)\n",
    "echo \"UTXO_CHARLI3 = $UTXO_CHARLI3\""
   ]
  },
  {
   "cell_type": "markdown",
   "id": "52627570-a432-483b-9eb5-3f59f315567e",
   "metadata": {},
   "source": [
    "View the reference UTXO."
   ]
  },
  {
   "cell_type": "code",
   "execution_count": 40,
   "id": "5b3b4676-f697-4b8d-bfd1-df289f260aed",
   "metadata": {
    "tags": []
   },
   "outputs": [
    {
     "name": "stdout",
     "output_type": "stream",
     "text": [
      "                           TxHash                                 TxIx        Amount\n",
      "--------------------------------------------------------------------------------------\n",
      "ba88b539c186e1723ade42be681f00f1bb3150f9fdf87cc93047d4c7de15983c     1        2000000 lovelace + 1 30d7c4da385a1f5044261d27b6a22d46b645ca3567636df5edeb303d.4f7261636c6546656564 + TxOutDatumInline ReferenceTxInsScriptsInlineDatumsInBabbageEra (ScriptDataConstructor 0 [ScriptDataConstructor 2 [ScriptDataMap [(ScriptDataNumber 0,ScriptDataNumber 247015),(ScriptDataNumber 1,ScriptDataNumber 1694899602977),(ScriptDataNumber 2,ScriptDataNumber 1694903202977)]]])\n"
     ]
    }
   ],
   "source": [
    "cardano-cli query utxo \"${MAGIC[@]}\" --tx-in \"$UTXO_CHARLI3\""
   ]
  },
  {
   "cell_type": "markdown",
   "id": "d5689a55-3d7e-4ad1-baa4-3364a013533d",
   "metadata": {},
   "source": [
    "Extract the inline datum in the reference UTXO."
   ]
  },
  {
   "cell_type": "code",
   "execution_count": 41,
   "id": "a9e854a2-ab69-4709-b2f8-f59bf015c566",
   "metadata": {
    "tags": []
   },
   "outputs": [],
   "source": [
    "cardano-cli query utxo \"${MAGIC[@]}\" --tx-in \"$UTXO_CHARLI3\" --out-file charli3.utxo"
   ]
  },
  {
   "cell_type": "markdown",
   "id": "6d128dfd-46f7-4611-8d47-830401e5fcdd",
   "metadata": {},
   "source": [
    "Extract the price from the reference UTXO's datum."
   ]
  },
  {
   "cell_type": "code",
   "execution_count": 42,
   "id": "20541635-2ab6-4678-9177-740ebae782d5",
   "metadata": {
    "tags": []
   },
   "outputs": [
    {
     "name": "stdout",
     "output_type": "stream",
     "text": [
      "PRICE = 0.247015 USD/ADA\n"
     ]
    }
   ],
   "source": [
    "PRICE=$(jq -r '.['\"$CHARLI3_UTXO\"'].inlineDatum.fields[0].fields[0].map[0].v.int' charli3.utxo)\n",
    "echo \"PRICE = $(echo \"scale=6; $PRICE / 1000000\" | bc | sed 's/^\\./0&/') USD/ADA\" "
   ]
  },
  {
   "cell_type": "markdown",
   "id": "596ffbde-5b44-4fe4-bbce-1269ba9d1e98",
   "metadata": {},
   "source": [
    "#### Build and submit the choice transaction"
   ]
  },
  {
   "cell_type": "markdown",
   "id": "a24e347a-d652-43f6-9d24-30e5efe0ff00",
   "metadata": {},
   "source": [
    "Set the choice of price in the input action to the Marlowe contract."
   ]
  },
  {
   "cell_type": "code",
   "execution_count": 43,
   "id": "33b8a915-869a-4cbe-8cea-5483eac1b279",
   "metadata": {
    "tags": []
   },
   "outputs": [
    {
     "name": "stdout",
     "output_type": "stream",
     "text": [
      "TransactionInput {txInterval = (POSIXTime {getPOSIXTime = 1694899893000},POSIXTime {getPOSIXTime = 1694900253999}), txInputs = [NormalInput (IChoice (ChoiceId \"Charli3 ADAUSD\" \"Oracle\") 247015)]}\n"
     ]
    }
   ],
   "source": [
    "marlowe-cli run prepare \\\n",
    "  --marlowe-file test-1.marlowe \\\n",
    "  --out-file test-2.marlowe \\\n",
    "  --choice-name \"Charli3 ADAUSD\" \\\n",
    "  --choice-party \"$BRIDGE_ROLE\" \\\n",
    "  --choice-number \"$PRICE\" \\\n",
    "  --invalid-before \"$((1000 * $(date -d \"$(date -u) - 1 minutes\" +%s)))\" \\\n",
    "  --invalid-hereafter \"$((1000 * $(date -d \"$(date -u) + 5 minutes\" +%s)))\" \\\n",
    "  2> /dev/null"
   ]
  },
  {
   "cell_type": "markdown",
   "id": "08f34f2f-8801-4d70-b1a3-0fd755fac79c",
   "metadata": {},
   "source": [
    "Compute the datum and redeemer for the Marlowe transaction."
   ]
  },
  {
   "cell_type": "code",
   "execution_count": 44,
   "id": "6811dc7d-696b-43fb-ace6-ca0d4100b57f",
   "metadata": {
    "tags": []
   },
   "outputs": [],
   "source": [
    "jq '.tx.inputs[0]' test-2.marlowe > test-2.input\n",
    "marlowe-cli contract redeemer \\\n",
    "  --input-file test-2.input \\\n",
    "  --out-file test-2.redeemer"
   ]
  },
  {
   "cell_type": "code",
   "execution_count": 45,
   "id": "5ace6c1f-ca1f-47b2-957d-bd97e1df994d",
   "metadata": {
    "tags": []
   },
   "outputs": [
    {
     "name": "stdout",
     "output_type": "stream",
     "text": [
      "e97068048f721e41d3879be828ef2bbea2f7619f50c56db02f97490a6a2f30c4\n"
     ]
    }
   ],
   "source": [
    "jq .tx.contract test-2.marlowe > test-2.contract\n",
    "jq .tx.state test-2.marlowe > test-2.state\n",
    "marlowe-cli contract datum \\\n",
    "  --roles-currency \"$ROLES_CURRENCY\" \\\n",
    "  --contract-file test-2.contract \\\n",
    "  --state-file test-2.state \\\n",
    "  --out-file test-2.datum"
   ]
  },
  {
   "cell_type": "markdown",
   "id": "12dec620-88f9-4d6a-8439-d940002f4d08",
   "metadata": {},
   "source": [
    "Compute the transaction cost."
   ]
  },
  {
   "cell_type": "code",
   "execution_count": 46,
   "id": "a5e32861-1431-454d-8b30-73060bc1231f",
   "metadata": {
    "tags": []
   },
   "outputs": [
    {
     "name": "stdout",
     "output_type": "stream",
     "text": [
      "Estimated transaction fee: Lovelace 973557\n",
      "- executionUnits:\n",
      "    memory: 6958112\n",
      "    steps: 1812041878\n",
      "  lovelaceCost: 532132\n",
      "  scriptHash: 2ed2631dbb277c84334453c5c437b86325d371f0835a28b910a91a6e\n",
      "- executionUnits:\n",
      "    memory: 2735374\n",
      "    steps: 770111224\n",
      "  lovelaceCost: 213357\n",
      "  scriptHash: 5cf63b098791dad54c986b0b24f9c645de3226a7ccbd71fd64f22518\n"
     ]
    }
   ],
   "source": [
    "cardano-cli transaction build \\\n",
    "  --babbage-era \\\n",
    "  \"${MAGIC[@]}\" \\\n",
    "  --protocol-params-file network.protocol \\\n",
    "  --tx-in \"$(select_utxo $((10 * ADA)))\" \\\n",
    "  --tx-in \"$UTXO_BRIDGE\" \\\n",
    "    --spending-tx-in-reference \"$UTXO_BRIDGE_SCRIPT\" \\\n",
    "    --spending-plutus-script-v2 \\\n",
    "    --spending-reference-tx-in-datum-file thread.datum \\\n",
    "    --spending-reference-tx-in-redeemer-file continue.redeemer \\\n",
    "  --tx-in \"$UTXO_MARLOWE\" \\\n",
    "    --spending-tx-in-reference \"$UTXO_MARLOWE_SCRIPT\" \\\n",
    "    --spending-plutus-script-v2 \\\n",
    "    --spending-reference-tx-in-datum-file test-1.datum \\\n",
    "    --spending-reference-tx-in-redeemer-file test-2.redeemer \\\n",
    "  --read-only-tx-in-reference \"$UTXO_CHARLI3\" \\\n",
    "  --tx-in-collateral \"$(select_utxo $((10 * ADA)))\" \\\n",
    "  --tx-out \"$BRIDGE_ADDR+$((2 * ADA))+1 $ROLES_CURRENCY.$BRIDGE_HEX\" \\\n",
    "    --tx-out-datum-embed-file thread.datum \\\n",
    "  --tx-out \"$MARLOWE_ADDR+$INITIAL_LOVELACE+1 $ROLES_CURRENCY.$THREAD_HEX\" \\\n",
    "    --tx-out-datum-embed-file test-2.datum \\\n",
    "  --change-address \"$PAYMENT_ADDR\" \\\n",
    "  --invalid-before \"$(jq -r '.tx.range[0]' test-2.marlowe)\" \\\n",
    "  --invalid-hereafter \"$(jq -r '.tx.range[1]' test-2.marlowe)\" \\\n",
    "  --calculate-plutus-script-cost test-2.cost\n",
    "json2yaml test-2.cost"
   ]
  },
  {
   "cell_type": "markdown",
   "id": "51dec5f5-fe5f-4d2e-b79b-8716e9b55cdc",
   "metadata": {},
   "source": [
    "Compare this to the execution cost limits for the protocol."
   ]
  },
  {
   "cell_type": "code",
   "execution_count": 47,
   "id": "83fedb77-cac2-4688-bcd6-1b4489cd955f",
   "metadata": {
    "tags": []
   },
   "outputs": [
    {
     "name": "stdout",
     "output_type": "stream",
     "text": [
      "memory: 14000000\n",
      "steps: 10000000000\n"
     ]
    }
   ],
   "source": [
    "jq .maxTxExecutionUnits network.protocol | json2yaml"
   ]
  },
  {
   "cell_type": "markdown",
   "id": "5f2e6dce-0c1c-4e66-b214-b516b4301269",
   "metadata": {},
   "source": [
    "Compute the fraction of Plutus memory that were used."
   ]
  },
  {
   "cell_type": "code",
   "execution_count": 48,
   "id": "d9d1f065-9be0-4d06-b039-0e0ad1a49c5c",
   "metadata": {
    "tags": []
   },
   "outputs": [
    {
     "name": "stdout",
     "output_type": "stream",
     "text": [
      "FRACTION_MEMORY = 0.6923\n"
     ]
    }
   ],
   "source": [
    "FRACTION_MEMORY=$(\n",
    "echo \"scale=4; ($(jq -r '.[0].executionUnits.memory' test-2.cost) + $(jq -r '.[1].executionUnits.memory' test-2.cost)) / $(jq .maxTxExecutionUnits.memory network.protocol)\" \\\n",
    "| bc \\\n",
    "| sed -e 's/^\\./0&/' \\\n",
    ")\n",
    "echo \"FRACTION_MEMORY = $FRACTION_MEMORY\""
   ]
  },
  {
   "cell_type": "markdown",
   "id": "d44bcd3f-02fa-4fd7-a472-151820edd3b3",
   "metadata": {},
   "source": [
    "Compute the fraction of Plutus steps that were used."
   ]
  },
  {
   "cell_type": "code",
   "execution_count": 49,
   "id": "a28a0101-e4ee-40df-aeb1-2eb70b755a4d",
   "metadata": {
    "tags": []
   },
   "outputs": [
    {
     "name": "stdout",
     "output_type": "stream",
     "text": [
      "FRACTION_STEPS = 0.2582\n"
     ]
    }
   ],
   "source": [
    "FRACTION_STEPS=$(\n",
    "echo \"scale=4; ($(jq -r '.[0].executionUnits.steps' test-2.cost) + $(jq -r '.[1].executionUnits.steps' test-2.cost)) / $(jq .maxTxExecutionUnits.steps network.protocol)\" \\\n",
    "| bc \\\n",
    "| sed -e 's/^\\./0&/' \\\n",
    ")\n",
    "echo \"FRACTION_STEPS = $FRACTION_STEPS\""
   ]
  },
  {
   "cell_type": "markdown",
   "id": "9bbcef21-a08a-47f2-9a55-93805c39bfbd",
   "metadata": {},
   "source": [
    "Build and submit the transaction to read the price from the Charli3 oracle into the Marlowe contract, using the oracle bridge."
   ]
  },
  {
   "cell_type": "code",
   "execution_count": 50,
   "id": "1aeff631-e419-4381-a787-db5e95d35d42",
   "metadata": {
    "tags": []
   },
   "outputs": [
    {
     "name": "stdout",
     "output_type": "stream",
     "text": [
      "Estimated transaction fee: Lovelace 973557\n"
     ]
    }
   ],
   "source": [
    "cardano-cli transaction build \\\n",
    "  --babbage-era \\\n",
    "  \"${MAGIC[@]}\" \\\n",
    "  --protocol-params-file network.protocol \\\n",
    "  --tx-in \"$(select_utxo $((10 * ADA)))\" \\\n",
    "  --tx-in \"$UTXO_BRIDGE\" \\\n",
    "    --spending-tx-in-reference \"$UTXO_BRIDGE_SCRIPT\" \\\n",
    "    --spending-plutus-script-v2 \\\n",
    "    --spending-reference-tx-in-datum-file thread.datum \\\n",
    "    --spending-reference-tx-in-redeemer-file continue.redeemer \\\n",
    "  --tx-in \"$UTXO_MARLOWE\" \\\n",
    "    --spending-tx-in-reference \"$UTXO_MARLOWE_SCRIPT\" \\\n",
    "    --spending-plutus-script-v2 \\\n",
    "    --spending-reference-tx-in-datum-file test-1.datum \\\n",
    "    --spending-reference-tx-in-redeemer-file test-2.redeemer \\\n",
    "  --read-only-tx-in-reference \"$UTXO_CHARLI3\" \\\n",
    "  --tx-in-collateral \"$(select_utxo $((10 * ADA)))\" \\\n",
    "  --tx-out \"$BRIDGE_ADDR+$((2 * ADA))+1 $ROLES_CURRENCY.$BRIDGE_HEX\" \\\n",
    "    --tx-out-datum-embed-file thread.datum \\\n",
    "  --tx-out \"$MARLOWE_ADDR+$INITIAL_LOVELACE+1 $ROLES_CURRENCY.$THREAD_HEX\" \\\n",
    "    --tx-out-datum-embed-file test-2.datum \\\n",
    "  --change-address \"$PAYMENT_ADDR\" \\\n",
    "  --invalid-before \"$(jq -r '.tx.range[0]' test-2.marlowe)\" \\\n",
    "  --invalid-hereafter \"$(jq -r '.tx.range[1]' test-2.marlowe)\" \\\n",
    "  --out-file test-2.unsigned"
   ]
  },
  {
   "cell_type": "code",
   "execution_count": 51,
   "id": "a980ff1f-c8da-4ab5-9951-7a9574a733c5",
   "metadata": {
    "tags": []
   },
   "outputs": [
    {
     "name": "stdout",
     "output_type": "stream",
     "text": [
      "https://cardanoscan.io/transaction/7c51f613cdf181fda2967847eb39b2d42a41eafa9f4e45c6869362590c575548?tab=utxo\n",
      "https://mainnet.marlowescan.com/contractView?tab=tx&contractId=9a04c856b7591d353a0a258ebeec335c544ba5ece1fc180b9124ca0d59b56c71%231&transactionId=7c51f613cdf181fda2967847eb39b2d42a41eafa9f4e45c6869362590c575548\n"
     ]
    }
   ],
   "source": [
    "TX_2=$(tx_submit test-2)\n",
    "echo \"$CARDANOSCAN_URL/transaction/$TX_2?tab=utxo\"\n",
    "echo \"https://$NETWORK.marlowescan.com/contractView?tab=tx&contractId=$TX_1%231&transactionId=$TX_2\""
   ]
  },
  {
   "cell_type": "code",
   "execution_count": 52,
   "id": "94f93854-199c-4823-a815-b0f2b35844ec",
   "metadata": {
    "tags": []
   },
   "outputs": [
    {
     "name": "stdout",
     "output_type": "stream",
     "text": [
      "UTXO_BRIDGE = 7c51f613cdf181fda2967847eb39b2d42a41eafa9f4e45c6869362590c575548#1\n",
      "UTXO_MARLOWE = 7c51f613cdf181fda2967847eb39b2d42a41eafa9f4e45c6869362590c575548#2\n"
     ]
    }
   ],
   "source": [
    "UTXO_BRIDGE=\"$TX_2#1\"\n",
    "UTXO_MARLOWE=\"$TX_2#2\"\n",
    "echo \"UTXO_BRIDGE = $UTXO_BRIDGE\"\n",
    "echo \"UTXO_MARLOWE = $UTXO_MARLOWE\""
   ]
  },
  {
   "cell_type": "markdown",
   "id": "85453d3f-fc63-489f-b692-91e569c94bf7",
   "metadata": {},
   "source": [
    "#### Build and submit the notify transaction"
   ]
  },
  {
   "cell_type": "markdown",
   "id": "4bc790cf-07c9-4e8e-8e03-5ca36f1d043b",
   "metadata": {},
   "source": [
    "Advance the Marlowe contract through its final `Notify` step."
   ]
  },
  {
   "cell_type": "code",
   "execution_count": 53,
   "id": "d0e9d6c1-d6db-49bc-b86e-5549ee163159",
   "metadata": {
    "tags": []
   },
   "outputs": [
    {
     "name": "stdout",
     "output_type": "stream",
     "text": [
      "TransactionInput {txInterval = (POSIXTime {getPOSIXTime = 1694900119000},POSIXTime {getPOSIXTime = 1694900479999}), txInputs = [NormalInput INotify]}\n"
     ]
    }
   ],
   "source": [
    "marlowe-cli run prepare \\\n",
    "  --marlowe-file test-2.marlowe \\\n",
    "  --out-file test-3.marlowe \\\n",
    "  --notify \\\n",
    "  --invalid-before \"$((1000 * $(date -d \"$(date -u) - 1 minutes\" +%s)))\" \\\n",
    "  --invalid-hereafter \"$((1000 * $(date -d \"$(date -u) + 5 minutes\" +%s)))\" \\\n",
    "  2> /dev/null  "
   ]
  },
  {
   "cell_type": "markdown",
   "id": "c9c8a207-3ad1-4f5a-93b3-cd3ba4ef2535",
   "metadata": {},
   "source": [
    "Compute the redeemer."
   ]
  },
  {
   "cell_type": "code",
   "execution_count": 54,
   "id": "99c9c502-430b-4989-933c-d52784184e9e",
   "metadata": {
    "tags": []
   },
   "outputs": [],
   "source": [
    "jq '.tx.inputs[0]' test-3.marlowe > test-3.input\n",
    "marlowe-cli contract redeemer \\\n",
    "  --input-file test-3.input \\\n",
    "  --out-file test-3.redeemer"
   ]
  },
  {
   "cell_type": "markdown",
   "id": "12cc8cd4-f118-4a3b-b75e-8434ea65e98a",
   "metadata": {},
   "source": [
    "Build and submit the transaction."
   ]
  },
  {
   "cell_type": "code",
   "execution_count": 55,
   "id": "2c77d3e8-052a-4fed-966a-35de7d4df236",
   "metadata": {
    "tags": []
   },
   "outputs": [
    {
     "name": "stdout",
     "output_type": "stream",
     "text": [
      "Estimated transaction fee: Lovelace 526426\n"
     ]
    }
   ],
   "source": [
    "cardano-cli transaction build \\\n",
    "  --babbage-era \\\n",
    "  \"${MAGIC[@]}\" \\\n",
    "  --protocol-params-file network.protocol \\\n",
    "  --tx-in \"$(select_utxo $((10 * ADA)))\" \\\n",
    "  --tx-in \"$UTXO_MARLOWE\" \\\n",
    "    --spending-tx-in-reference \"$UTXO_MARLOWE_SCRIPT\" \\\n",
    "    --spending-plutus-script-v2 \\\n",
    "    --spending-reference-tx-in-datum-file test-2.datum \\\n",
    "    --spending-reference-tx-in-redeemer-file test-3.redeemer \\\n",
    "  --tx-in-collateral \"$(select_utxo $((10 * ADA)))\" \\\n",
    "  --tx-out \"$PAYMENT_ADDR+$INITIAL_LOVELACE+1 $ROLES_CURRENCY.$THREAD_HEX\" \\\n",
    "  --change-address \"$PAYMENT_ADDR\" \\\n",
    "  --invalid-before \"$(jq -r '.tx.range[0]' test-3.marlowe)\" \\\n",
    "  --invalid-hereafter \"$(jq -r '.tx.range[1]' test-3.marlowe)\" \\\n",
    "  --out-file test-3.unsigned"
   ]
  },
  {
   "cell_type": "code",
   "execution_count": 56,
   "id": "45846dd1-6034-41b5-a934-824e5ea6471f",
   "metadata": {
    "tags": []
   },
   "outputs": [
    {
     "name": "stdout",
     "output_type": "stream",
     "text": [
      "https://cardanoscan.io/transaction/5a9de9652eac84296a0f15d857068e8f54d0884e771618ccc68fc8e0cf92988b?tab=utxo\n",
      "https://mainnet.marlowescan.com/contractView?tab=tx&contractId=9a04c856b7591d353a0a258ebeec335c544ba5ece1fc180b9124ca0d59b56c71%231&transactionId=5a9de9652eac84296a0f15d857068e8f54d0884e771618ccc68fc8e0cf92988b\n"
     ]
    }
   ],
   "source": [
    "TX_3=$(tx_submit test-3)\n",
    "echo \"$CARDANOSCAN_URL/transaction/$TX_3?tab=utxo\"\n",
    "echo \"https://$NETWORK.marlowescan.com/contractView?tab=tx&contractId=$TX_1%231&transactionId=$TX_3\""
   ]
  },
  {
   "cell_type": "markdown",
   "id": "7488613a-0dc4-47f2-9379-5827037d6724",
   "metadata": {},
   "source": [
    "### Shut down the oracle bridge"
   ]
  },
  {
   "cell_type": "markdown",
   "id": "fd4bc428-5a61-4970-a1b2-75a38f8c9ac6",
   "metadata": {},
   "source": [
    "Build and submit the transaction to shut down the oracle bridge."
   ]
  },
  {
   "cell_type": "code",
   "execution_count": 57,
   "id": "f8581956-0235-4822-8a98-1dae7b813f7a",
   "metadata": {
    "tags": []
   },
   "outputs": [
    {
     "name": "stdout",
     "output_type": "stream",
     "text": [
      "Estimated transaction fee: Lovelace 250777\n"
     ]
    }
   ],
   "source": [
    "cardano-cli transaction build \\\n",
    "  --babbage-era \\\n",
    "  \"${MAGIC[@]}\" \\\n",
    "  --protocol-params-file network.protocol \\\n",
    "  --tx-in \"$(select_utxo $((10 * ADA)))\" \\\n",
    "  --tx-in \"$UTXO_BRIDGE\" \\\n",
    "    --spending-tx-in-reference \"$UTXO_BRIDGE_SCRIPT\" \\\n",
    "    --spending-plutus-script-v2 \\\n",
    "    --spending-reference-tx-in-datum-file thread.datum \\\n",
    "    --spending-reference-tx-in-redeemer-file terminate.redeemer \\\n",
    "  --tx-in-collateral \"$(select_utxo $((10 * ADA)))\" \\\n",
    "  --tx-out \"$PAYMENT_ADDR+$((2 * ADA))+1 $ROLES_CURRENCY.$BRIDGE_HEX\" \\\n",
    "  --change-address \"$PAYMENT_ADDR\" \\\n",
    "  --out-file test-4.unsigned"
   ]
  },
  {
   "cell_type": "code",
   "execution_count": 58,
   "id": "1599b2cd-f3d1-4236-8cae-01c9da4027c6",
   "metadata": {
    "tags": []
   },
   "outputs": [
    {
     "name": "stdout",
     "output_type": "stream",
     "text": [
      "https://cardanoscan.io/transaction/b39d39e98a536a6da7f36481adf68df6b3f4f33fd805b1b09cb9a4ca455547b1?tab=utxo\n"
     ]
    }
   ],
   "source": [
    "TX_4=$(tx_submit test-4)\n",
    "echo \"$CARDANOSCAN_URL/transaction/$TX_4?tab=utxo\""
   ]
  },
  {
   "cell_type": "markdown",
   "id": "19077d16-119e-4643-b74b-7f77dc2c2771",
   "metadata": {},
   "source": [
    "## Clean up"
   ]
  },
  {
   "cell_type": "markdown",
   "id": "084a54b0-85a2-47ac-ae65-e7bd73b45cea",
   "metadata": {},
   "source": [
    "Consume the reference script UTXO for the oracle bridge."
   ]
  },
  {
   "cell_type": "code",
   "execution_count": 59,
   "id": "78f8ec3d-829b-4070-afc7-6d88bc483d65",
   "metadata": {
    "tags": []
   },
   "outputs": [
    {
     "name": "stdout",
     "output_type": "stream",
     "text": [
      "TxId \"13f2bfeca326e77c6b3bee98898b655746a0b15287e4179f439dc42533d07927\"\n"
     ]
    }
   ],
   "source": [
    "marlowe-cli transaction simple \\\n",
    "  \"${MAGIC[@]}\" \\\n",
    "  --tx-in \"$UTXO_BRIDGE_SCRIPT\" \\\n",
    "  --change-address \"$PAYMENT_ADDR\" \\\n",
    "  --required-signer \"$PUBLISH_SKEY\" \\\n",
    "  --out-file /dev/null \\\n",
    "  --submit 600"
   ]
  },
  {
   "cell_type": "markdown",
   "id": "062a531e-8ad8-47dd-805f-b020e9f84237",
   "metadata": {},
   "source": [
    "Burn the role tokens."
   ]
  },
  {
   "cell_type": "code",
   "execution_count": 60,
   "id": "b5a520e8-ff76-4a98-b69b-f3d8d78f1bc9",
   "metadata": {
    "tags": []
   },
   "outputs": [
    {
     "name": "stdout",
     "output_type": "stream",
     "text": [
      "bd0dddf6d44a37ba142096f71d281159544378c4f17887a39797c002\n"
     ]
    }
   ],
   "source": [
    "marlowe-cli util burn \\\n",
    "  \"${MAGIC[@]}\" \\\n",
    "  --issuer \"$PAYMENT_ADDR:$PAYMENT_SKEY\" \\\n",
    "  --token-provider \"$PAYMENT_ADDR:$PAYMENT_SKEY\" \\\n",
    "  --out-file /dev/null \\\n",
    "  --submit 600s \\\n",
    "  2> /dev/null"
   ]
  }
 ],
 "metadata": {
  "kernelspec": {
   "display_name": "Bash with Marlowe Tools",
   "language": "bash",
   "name": "bash-minimal"
  },
  "language_info": {
   "codemirror_mode": "shell",
   "file_extension": ".sh",
   "mimetype": "text/x-sh",
   "name": "bash"
  }
 },
 "nbformat": 4,
 "nbformat_minor": 5
}
